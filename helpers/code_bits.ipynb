{
 "cells": [
  {
   "cell_type": "code",
   "execution_count": 5,
   "metadata": {},
   "outputs": [
    {
     "name": "stdout",
     "output_type": "stream",
     "text": [
      "{\n",
      " \"Title\": \"Guardians of the Galaxy Vol. 2\",\n",
      " \"Year\": \"2017\",\n",
      " \"Rated\": \"PG-13\",\n",
      " \"Released\": \"05 May 2017\",\n",
      " \"Runtime\": \"136 min\",\n",
      " \"Genre\": \"Action, Adventure, Comedy\",\n",
      " \"Director\": \"James Gunn\",\n",
      " \"Writer\": \"James Gunn, Dan Abnett, Andy Lanning\",\n",
      " \"Actors\": \"Chris Pratt, Zoe Saldana, Dave Bautista\",\n",
      " \"Plot\": \"The Guardians struggle to keep together as a team while dealing with their personal family issues, notably Star-Lord's encounter with his father, the ambitious celestial being Ego.\",\n",
      " \"Language\": \"English\",\n",
      " \"Country\": \"United States\",\n",
      " \"Awards\": \"Nominated for 1 Oscar. 15 wins & 60 nominations total\",\n",
      " \"Poster\": \"https://m.media-amazon.com/images/M/MV5BNjM0NTc0NzItM2FlYS00YzEwLWE0YmUtNTA2ZWIzODc2OTgxXkEyXkFqcGdeQXVyNTgwNzIyNzg@._V1_SX300.jpg\",\n",
      " \"Ratings\": [\n",
      "  {\n",
      "   \"Source\": \"Internet Movie Database\",\n",
      "   \"Value\": \"7.6/10\"\n",
      "  },\n",
      "  {\n",
      "   \"Source\": \"Rotten Tomatoes\",\n",
      "   \"Value\": \"85%\"\n",
      "  },\n",
      "  {\n",
      "   \"Source\": \"Metacritic\",\n",
      "   \"Value\": \"67/100\"\n",
      "  }\n",
      " ],\n",
      " \"Metascore\": \"67\",\n",
      " \"imdbRating\": \"7.6\",\n",
      " \"imdbVotes\": \"732,300\",\n",
      " \"imdbID\": \"tt3896198\",\n",
      " \"Type\": \"movie\",\n",
      " \"DVD\": \"10 Jul 2017\",\n",
      " \"BoxOffice\": \"$389,813,101\",\n",
      " \"Production\": \"N/A\",\n",
      " \"Website\": \"N/A\",\n",
      " \"Response\": \"True\"\n",
      "}\n"
     ]
    }
   ],
   "source": [
    "import json \n",
    "\n",
    "json_data = '''{\"Title\":\"Guardians of the Galaxy Vol. 2\",\"Year\":\"2017\",\"Rated\":\"PG-13\",\"Released\":\"05 May 2017\",\"Runtime\":\"136 min\",\"Genre\":\"Action, Adventure, Comedy\",\"Director\":\"James Gunn\",\"Writer\":\"James Gunn, Dan Abnett, Andy Lanning\",\"Actors\":\"Chris Pratt, Zoe Saldana, Dave Bautista\",\"Plot\":\"The Guardians struggle to keep together as a team while dealing with their personal family issues, notably Star-Lord's encounter with his father, the ambitious celestial being Ego.\",\"Language\":\"English\",\"Country\":\"United States\",\"Awards\":\"Nominated for 1 Oscar. 15 wins & 60 nominations total\",\"Poster\":\"https://m.media-amazon.com/images/M/MV5BNjM0NTc0NzItM2FlYS00YzEwLWE0YmUtNTA2ZWIzODc2OTgxXkEyXkFqcGdeQXVyNTgwNzIyNzg@._V1_SX300.jpg\",\"Ratings\":[{\"Source\":\"Internet Movie Database\",\"Value\":\"7.6/10\"},{\"Source\":\"Rotten Tomatoes\",\"Value\":\"85%\"},{\"Source\":\"Metacritic\",\"Value\":\"67/100\"}],\"Metascore\":\"67\",\"imdbRating\":\"7.6\",\"imdbVotes\":\"732,300\",\"imdbID\":\"tt3896198\",\"Type\":\"movie\",\"DVD\":\"10 Jul 2017\",\"BoxOffice\":\"$389,813,101\",\"Production\":\"N/A\",\"Website\":\"N/A\",\"Response\":\"True\"}'''\n",
    "\n",
    "print(json.dumps(json.loads(json_data), indent=1))"
   ]
  }
 ],
 "metadata": {
  "kernelspec": {
   "display_name": "ws_st",
   "language": "python",
   "name": "python3"
  },
  "language_info": {
   "codemirror_mode": {
    "name": "ipython",
    "version": 3
   },
   "file_extension": ".py",
   "mimetype": "text/x-python",
   "name": "python",
   "nbconvert_exporter": "python",
   "pygments_lexer": "ipython3",
   "version": "3.9.13"
  },
  "orig_nbformat": 4
 },
 "nbformat": 4,
 "nbformat_minor": 2
}
